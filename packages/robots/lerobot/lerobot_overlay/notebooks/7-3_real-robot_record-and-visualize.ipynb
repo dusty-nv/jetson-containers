{
 "cells": [
  {
   "cell_type": "markdown",
   "metadata": {},
   "source": [
    "# 7-3. Getting Started with Real-World Robots - Record your Dataset and Visualize it\n",
    "\n",
    ":::{note}\n",
    "\n",
    "This notebook content is derived from lerobot repo's example note \"[7_get_started_with_real_robot.md](https://github.com/huggingface/lerobot/blob/main/examples/7_get_started_with_real_robot.md#3-record-your-dataset-and-visualize-it)\".\n",
    "\n",
    "The notebook is formated in Jupyter notebook style, so that one can just follow this notebook on Jetson (running Jupyer Lab server inside the lerobot container).\n",
    "\n",
    "Please note that this notebook (along with other in the series) may not be the full copy of the original note, as it tries to catpure the essense and important part that involves with Python code executions.<br>\n",
    "For the full documentation and its update, please always refer to the original document (\"[7_get_started_with_real_robot.md](https://github.com/huggingface/lerobot/blob/main/examples/7_get_started_with_real_robot.md)\").\n",
    "\n",
    ":::"
   ]
  },
  {
   "cell_type": "markdown",
   "metadata": {},
   "source": [
    "*Using what you've learned previously, you can now easily record a dataset of states and actions for one episode. You can use `busy_wait` to control the speed of teleoperation and record at a fixed `fps` (frame per seconds).*\n",
    "\n",
    "*Try this code to record 30 seconds at 60 fps:*\n",
    "```python\n",
    "import time\n",
    "from lerobot.scripts.control_robot import busy_wait\n",
    "\n",
    "record_time_s = 30\n",
    "fps = 60\n",
    "\n",
    "states = []\n",
    "actions = []\n",
    "for _ in range(record_time_s * fps):\n",
    "    start_time = time.perf_counter()\n",
    "    observation, action = robot.teleop_step(record_data=True)\n",
    "\n",
    "    states.append(observation[\"observation.state\"])\n",
    "    actions.append(action[\"action\"])\n",
    "\n",
    "    dt_s = time.perf_counter() - start_time\n",
    "    busy_wait(1 / fps - dt_s)\n",
    "\n",
    "# Note that observation and action are available in RAM, but\n",
    "# you could potentially store them on disk with pickle/hdf5 or\n",
    "# our optimized format `LeRobotDataset`. More on this next.\n",
    "```"
   ]
  },
  {
   "cell_type": "markdown",
   "metadata": {},
   "source": [
    "## a. Use the `record` function"
   ]
  },
  {
   "cell_type": "markdown",
   "metadata": {},
   "source": [
    ":::{note}\n",
    "\n",
    "Before trying `record`, if you want to push your dataset to the hub, make sure you've logged in using a write-access token, which can be generated from the [Hugging Face settings](https://huggingface.co/settings/tokens):\n",
    "```bash\n",
    "huggingface-cli login --token ${HUGGINGFACE_TOKEN} --add-to-git-credential\n",
    "```\n",
    "Also, store your Hugging Face repository name in a variable (e.g. `cadene` or `lerobot`). For instance, run this to use your Hugging Face user name as repository:\n",
    "```bash\n",
    "HF_USER=$(huggingface-cli whoami | head -n 1)\n",
    "echo $HF_USER\n",
    "```\n",
    "If you don't want to push to hub, use `-control.push_to_hub=false`.\n",
    "\n",
    ":::"
   ]
  },
  {
   "cell_type": "markdown",
   "metadata": {},
   "source": [
    "*Now run the following in the terminal to record 2 episodes:*\n",
    "\n",
    "```\n",
    "python lerobot/scripts/control_robot.py \\\n",
    "  --robot.type=koch \\\n",
    "  --control.type=record \\\n",
    "  --control.single_task=\"Grasp a lego block and put it in the bin.\" \\\n",
    "  --control.fps=30 \\\n",
    "  --control.repo_id=${HF_USER}/koch_test \\\n",
    "  --control.tags='[\"tutorial\"]' \\\n",
    "  --control.warmup_time_s=5 \\\n",
    "  --control.episode_time_s=30 \\\n",
    "  --control.reset_time_s=30 \\\n",
    "  --control.num_episodes=2 \\\n",
    "  --control.push_to_hub=true\n",
    "```\n",
    "\n",
    "*This will write your dataset locally to `~/.cache/huggingface/lerobot/{repo-id}` (e.g. `data/cadene/koch_test`) and push it on the hub at `https://huggingface.co/datasets/{HF_USER}/{repo-id}`. Your dataset will be automatically tagged with `LeRobot` for the community to find it easily, and you can also add custom tags (in this case `tutorial` for example).*\n",
    "\n",
    "*You can look for other LeRobot datasets on the hub by searching for `LeRobot` tags: https://huggingface.co/datasets?other=LeRobot*\n"
   ]
  },
  {
   "cell_type": "markdown",
   "metadata": {},
   "source": [
    "*You will see a lot of lines appearing like this one:*\n",
    "```\n",
    "INFO 2024-08-10 15:02:58 ol_robot.py:219 dt:33.34 (30.0hz) dtRlead: 5.06 (197.5hz) dtWfoll: 0.25 (3963.7hz) dtRfoll: 6.22 (160.7hz) dtRlaptop: 32.57 (30.7hz) dtRphone: 33.84 (29.5hz)\n",
    "```\n",
    "*It contains:*\n",
    "- `2024-08-10 15:02:58` which is the date and time of the call to the print function,\n",
    "- `ol_robot.py:219` which is the end of the file name and the line number where the print function is called  (`lerobot/scripts/control_robot.py` line `219`).\n",
    "- `dt:33.34 (30.0hz)` which is the \"delta time\" or the number of milliseconds spent between the previous call to `robot.teleop_step(record_data=True)` and the current one, associated with the frequency (33.34 ms equals 30.0 Hz) ; note that we use `--fps 30` so we expect 30.0 Hz ; when a step takes more time, the line appears in yellow.\n",
    "- `dtRlead: 5.06 (197.5hz)` which is the delta time of reading the present position of the leader arm.\n",
    "- `dtWfoll: 0.25 (3963.7hz)` which is the delta time of writing the goal position on the follower arm ; writing is asynchronous so it takes less time than reading.\n",
    "- `dtRfoll: 6.22 (160.7hz)` which is the delta time of reading the present position on the follower arm.\n",
    "- `dtRlaptop:32.57 (30.7hz) ` which is the delta time of capturing an image from the laptop camera in the thread running asynchronously.\n",
    "- `dtRphone:33.84 (29.5hz)` which is the delta time of capturing an image from the phone camera in the thread running asynchronously.\n",
    "\n",
    "*Troubleshooting:*\n",
    "- On Linux, if you encounter any issue during video encoding with `ffmpeg: unknown encoder libsvtav1`, you can:\n",
    "  - <del>install with conda-forge by running `conda install -c conda-forge ffmpeg` (it should be compiled with `libsvtav1`),</del>\n",
    "  - <del>or, install [Homebrew](https://brew.sh) and run `brew install ffmpeg` (it should be compiled with `libsvtav1`),</del>\n",
    "  - <del>or, install [ffmpeg build dependencies](https://trac.ffmpeg.org/wiki/CompilationGuide/Ubuntu#GettheDependencies) and [compile ffmpeg from source with libsvtav1](https://trac.ffmpeg.org/wiki/CompilationGuide/Ubuntu#libsvtav1),</del>\n",
    "  - and, make sure you use the corresponding ffmpeg binary to your install with `which ffmpeg`.\n",
    "- On Linux, if the left and right arrow keys and escape key don't have any effect during data recording, make sure you've set the `$DISPLAY` environment variable. See [pynput limitations](https://pynput.readthedocs.io/en/latest/limitations.html#linux).~~\n",
    "\n",
    "*At the end of data recording, your dataset will be uploaded on your Hugging Face page (e.g. https://huggingface.co/datasets/cadene/koch_test) that you can obtain by running:*\n",
    "```bash\n",
    "echo https://huggingface.co/datasets/${HF_USER}/koch_test\n",
    "```"
   ]
  },
  {
   "cell_type": "markdown",
   "metadata": {},
   "source": [
    "## b. Advices for recording dataset\n",
    "\n",
    "## c. Visualize all episodes\n",
    "\n",
    "Run the following to visualize recorded data.\n",
    "\n",
    "```bash\n",
    "python lerobot/scripts/visualize_dataset_html.py \\\n",
    "  --root data \\\n",
    "  --repo-id ${HF_USER}/koch_test\n",
    "```\n"
   ]
  },
  {
   "cell_type": "markdown",
   "metadata": {},
   "source": [
    "## d. Replay episode on your robot with the `replay` function\n",
    "\n",
    "```bash\n",
    "python lerobot/scripts/control_robot.py replay \\\n",
    "  --robot-path lerobot/configs/robot/koch.yaml \\\n",
    "  --fps 30 \\\n",
    "  --root data \\\n",
    "  --repo-id ${HF_USER}/koch_test \\\n",
    "  --episode 0\n",
    "```\n"
   ]
  },
  {
   "cell_type": "code",
   "execution_count": null,
   "metadata": {},
   "outputs": [],
   "source": []
  }
 ],
 "metadata": {
  "kernelspec": {
   "display_name": "Python 3 (ipykernel)",
   "language": "python",
   "name": "python3"
  },
  "language_info": {
   "codemirror_mode": {
    "name": "ipython",
    "version": 3
   },
   "file_extension": ".py",
   "mimetype": "text/x-python",
   "name": "python",
   "nbconvert_exporter": "python",
   "pygments_lexer": "ipython3",
   "version": "3.10.12"
  }
 },
 "nbformat": 4,
 "nbformat_minor": 4
}
